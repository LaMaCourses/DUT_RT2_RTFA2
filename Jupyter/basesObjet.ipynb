{
 "cells": [
  {
   "cell_type": "markdown",
   "id": "29c8cac5",
   "metadata": {},
   "source": [
    "# Programmation objet : les bases"
   ]
  },
  {
   "cell_type": "markdown",
   "id": "8b57eb37",
   "metadata": {},
   "source": [
    "Ce notepad a pour objectif de vous présenter succinctement les concepts de la programmation objet en python3.\n",
    "\n",
    "## Avant l'objet\n",
    "Avant de programmer en objet, vous avez programmé dans un langage impératif: le C.  \n",
    "Imaginons que nous devons manipuler dans un programme des animaux, dont nous avons besoin de spécifier certaines caractéristiques:\n",
    " * son âge\n",
    " * son nombre de pattes\n",
    " \n",
    "En C, on crée naturellement une **structure** qui réunit plusieurs types, avec typedef:"
   ]
  },
  {
   "cell_type": "markdown",
   "id": "3818067b",
   "metadata": {},
   "source": [
    "  ```\n",
    "  typedef struct animal {  \n",
    "    int age; //ces variables s'appellent des **champs**  \n",
    "    int nbpattes;  \n",
    "  } Animal;```"
   ]
  },
  {
   "cell_type": "markdown",
   "id": "9adbf088",
   "metadata": {},
   "source": [
    "On déclare une variable de type Animal ainsi  "
   ]
  },
  {
   "cell_type": "markdown",
   "id": "80ec8014",
   "metadata": {},
   "source": [
    "  ```\n",
    "  Animal vache;```  "
   ]
  },
  {
   "cell_type": "markdown",
   "id": "3ff56da6",
   "metadata": {},
   "source": [
    "On accède aux champs par l'opérateur .  "
   ]
  },
  {
   "cell_type": "markdown",
   "id": "301422be",
   "metadata": {},
   "source": [
    "```\n",
    "#utilisation des champs\n",
    "vache.age = 1;\n",
    "vache.nbpattes = 4;```"
   ]
  },
  {
   "cell_type": "markdown",
   "id": "67abcfb1",
   "metadata": {},
   "source": [
    "Et si on souhaite créer une fonction qui, par exemple, affiche l'âge d'un animal on écrit:"
   ]
  },
  {
   "cell_type": "markdown",
   "id": "91e692ad",
   "metadata": {},
   "source": [
    "```\n",
    "void affiche_age(Animal x)\n",
    "{printf(\"%d\\n\",x.age);}```"
   ]
  },
  {
   "cell_type": "markdown",
   "id": "b08021a7",
   "metadata": {},
   "source": [
    "## Langage objet : les bases\n",
    "### Les classes et leur attributs\n",
    "Dans un langage objet, les types structurés sont remplacés par des **classes**, et les champs par des **attributs**."
   ]
  },
  {
   "cell_type": "code",
   "execution_count": 39,
   "id": "8adbacba",
   "metadata": {},
   "outputs": [],
   "source": [
    "class Animal:\n",
    "    pass #commande permettant de ne rien mettre dans la classe, pour le moment"
   ]
  },
  {
   "cell_type": "markdown",
   "id": "c7dbd740",
   "metadata": {},
   "source": [
    "On déclare un animal ainsi:"
   ]
  },
  {
   "cell_type": "code",
   "execution_count": 40,
   "id": "2ebb717d",
   "metadata": {},
   "outputs": [],
   "source": [
    "vache = Animal()"
   ]
  },
  {
   "cell_type": "markdown",
   "id": "4b255ce0",
   "metadata": {},
   "source": [
    "Cette déclaration s'appelle, en langage objet, une **instanciation**: on crée une instance `vache` de la classe `Animal`. Lors de cette instanciation, une \"fonction\" spéciale est appelée, dénommée **constructeur de classe**.  \n",
    "On peut définir nous-même ce que fait ce constructeur:"
   ]
  },
  {
   "cell_type": "code",
   "execution_count": 41,
   "id": "d04b5877",
   "metadata": {},
   "outputs": [],
   "source": [
    "class Animal:\n",
    "    def __init__(self): #la fonction constructeur de classe\n",
    "        self.age = 0\n",
    "        self.nbpattes = 0"
   ]
  },
  {
   "cell_type": "markdown",
   "id": "6d81b001",
   "metadata": {},
   "source": [
    "Dans l'exemple précédent, nous avons créé deux attributs à la classe `Animal` dans son constructeur.  \n",
    "On peut désormais manipuler ces attributs, comme en C:"
   ]
  },
  {
   "cell_type": "code",
   "execution_count": 42,
   "id": "296a54fc",
   "metadata": {},
   "outputs": [
    {
     "name": "stdout",
     "output_type": "stream",
     "text": [
      "0\n"
     ]
    }
   ],
   "source": [
    "vache = Animal()\n",
    "print(vache.age)"
   ]
  },
  {
   "cell_type": "markdown",
   "id": "8f477eea",
   "metadata": {},
   "source": [
    "### Les méthodes de classe\n",
    "Nous voulons écrire une fonction qui affiche l'âge de notre `vache`. On peut bien sûr afficher `vache.age`, mais on peut également écrire une fonction dédiée, qui en programmation objet s'appelle **méthode** (de classe)."
   ]
  },
  {
   "cell_type": "code",
   "execution_count": 43,
   "id": "47a6cca3",
   "metadata": {},
   "outputs": [
    {
     "name": "stdout",
     "output_type": "stream",
     "text": [
      "0\n"
     ]
    }
   ],
   "source": [
    "class Animal:\n",
    "    def __init__(self): #la fonction constructeur de classe\n",
    "        self.age = 0\n",
    "        self.nbpattes = 0\n",
    "    def afficheAge(self):\n",
    "        print(self.age)\n",
    "vache = Animal()\n",
    "vache.afficheAge()"
   ]
  },
  {
   "cell_type": "markdown",
   "id": "43ccba35",
   "metadata": {},
   "source": [
    "**TRES IMPORTANT** `self` signifie **l'instance de classe elle-même**. Ce mot-clé doit apparaître dans toutes les en-têtes de méthodes. Dans cet exemple, quand on exécute `vache=Animal()`, on entre dans le constructeur `__init__` et `self` vaut en fait l'instance de classe (la variable)`vache`."
   ]
  },
  {
   "cell_type": "markdown",
   "id": "a5cf5fc8",
   "metadata": {},
   "source": [
    "**TRES IMPORTANT** Cette méthode `afficheAge` *appartient* à la classe, on ne peut pas l'utiliser seule, ou sur une instance d'une autre classe. (grosse différence avec les fonctions de la programmation impérative)  \n",
    "```afficheAge(5)```ne fonctionnera pas seul."
   ]
  },
  {
   "cell_type": "markdown",
   "id": "80b66e27",
   "metadata": {},
   "source": [
    "### getters et setters\n",
    "Traditionnellement, on n'aime pas trop qu'un utilisateur d'une classe accède aux attributs directement, comme lorsque nous avons affiché `vache.age`. On préfère utiliser des fonctions de lecture et d'écriture dédiées, appelées respectivement **getters** et **setters**. Une fonction getter (usuellement appelée *get*) sert à lire un attribut, et une fonction setter (usuellement appelée *set*) sert à modifier un attribut.  \n",
    "Nous allons transformer notre méthode `afficheAge` en getter: il suffit qu'elle renvoie la valeur de l'attribut `age`.  \n",
    "Ecrivons également un setter pour l'âge:"
   ]
  },
  {
   "cell_type": "code",
   "execution_count": 44,
   "id": "b227de31",
   "metadata": {},
   "outputs": [
    {
     "name": "stdout",
     "output_type": "stream",
     "text": [
      "ceci est le getAge d'Animal\n",
      "12\n"
     ]
    }
   ],
   "source": [
    "class Animal:\n",
    "    def __init__(self): #la fonction constructeur de classe\n",
    "        self.age = 0\n",
    "        self.nbpattes = 0\n",
    "    def getAge(self): #notre getter pour age\n",
    "        print(\"ceci est le getAge d'Animal\")\n",
    "        return(self.age)\n",
    "    def setAge(self,age): #notre setter pour age\n",
    "        self.age = age\n",
    "vache = Animal()\n",
    "vache.setAge(12)\n",
    "print(vache.getAge())"
   ]
  },
  {
   "cell_type": "markdown",
   "id": "b85d9243",
   "metadata": {},
   "source": [
    "## Langage objet : quel intérêt?\n",
    "Vous aurez compris que les langages objets forcent les développeurs à organiser leur code: fonctions et champs (devenus méthodes et attributs) appartiennent aux classes. En organisant ainsi nos structures, on ressent rapidement le besoin de créer des liens entre-elles.\n",
    "*Exemple* : j'aimerais créer une classe `Reptile` qui disposerait des mêmes attributs `age` et `nbpattes` que `Animal`.  \n",
    "Nous sommes là face à la nécessité de définir un **héritage**.  \n",
    "### Héritage\n",
    "Lors de la conception d'une classe, on peut la faire hériter d'une autre classe. Elle hérite alors de ses attributs et de ses méthodes:"
   ]
  },
  {
   "cell_type": "code",
   "execution_count": 45,
   "id": "335ddd53",
   "metadata": {},
   "outputs": [],
   "source": [
    "class Reptile(Animal): #Reptile hérite de Animal\n",
    "    pass\n",
    "        \n",
    "boa = Reptile()"
   ]
  },
  {
   "cell_type": "markdown",
   "id": "c7f6c9fc",
   "metadata": {},
   "source": [
    "`boa` est un `Reptile`. Que se passe-t-il si l'on tente d'afficher son `age` via la méthode `getAge` ?"
   ]
  },
  {
   "cell_type": "code",
   "execution_count": 46,
   "id": "8386277f",
   "metadata": {},
   "outputs": [
    {
     "name": "stdout",
     "output_type": "stream",
     "text": [
      "ceci est le getAge d'Animal\n",
      "0\n"
     ]
    }
   ],
   "source": [
    "print(boa.getAge())"
   ]
  },
  {
   "cell_type": "markdown",
   "id": "d3a3b2a3",
   "metadata": {},
   "source": [
    "Ca fonctionne, car les reptiles héritent de la classe `Animal` donc de ses méthodes et attributs.  \n",
    "Nous voudrions maintenant que la classe `Reptile` soit dotée, en plus des attributs de la classe `Animal`, d'un attribut `nbecailles` qui lui serait propre."
   ]
  },
  {
   "cell_type": "code",
   "execution_count": 47,
   "id": "409c0138",
   "metadata": {},
   "outputs": [],
   "source": [
    "class Reptile(Animal): #Reptile hérite de Animal\n",
    "    def __init__(self): #le constructeur de Reptile\n",
    "        super().__init__() #J'APPELLE EXPLICITEMENT LE CONSTRUCTEUR D'ANIMAL\n",
    "        self.nbecailles = 0\n",
    "        \n",
    "boa = Reptile()"
   ]
  },
  {
   "cell_type": "markdown",
   "id": "2c03efda",
   "metadata": {},
   "source": [
    "Pour que les instances de la classe `Reptile` disposent des attributs de `Animal` **ET** de ce nouvel attribut de la classe `Reptile`, il faut appeler explicitement le constructeur de la classe mère à l'aide du mot-clé **super**."
   ]
  },
  {
   "cell_type": "markdown",
   "id": "fc9658cc",
   "metadata": {},
   "source": [
    "### Polymorphisme\n",
    "On peut souhaiter écrire dans `Reptile` une nouvelle méthode `getAge` qui lui sera propre et sera appelée à la place de celle de `Animal`."
   ]
  },
  {
   "cell_type": "code",
   "execution_count": 48,
   "id": "416f2996",
   "metadata": {},
   "outputs": [
    {
     "name": "stdout",
     "output_type": "stream",
     "text": [
      "ceci est le getAge de Reptile\n",
      "0\n",
      "ceci est le getAge d'Animal\n",
      "0\n"
     ]
    }
   ],
   "source": [
    "class Reptile(Animal): #Reptile hérite de Animal\n",
    "    def __init__(self): #le constructeur de Reptile\n",
    "        super().__init__()\n",
    "        self.nbecailles = 0\n",
    "    def getAge(self):\n",
    "        print(\"ceci est le getAge de Reptile\")\n",
    "        return(self.age)\n",
    "boa = Reptile()\n",
    "moineau = Animal()\n",
    "print(boa.getAge())\n",
    "print(moineau.getAge())\n"
   ]
  },
  {
   "cell_type": "code",
   "execution_count": null,
   "id": "dad04215",
   "metadata": {},
   "outputs": [],
   "source": []
  }
 ],
 "metadata": {
  "kernelspec": {
   "display_name": "Python 3",
   "language": "python",
   "name": "python3"
  },
  "language_info": {
   "codemirror_mode": {
    "name": "ipython",
    "version": 3
   },
   "file_extension": ".py",
   "mimetype": "text/x-python",
   "name": "python",
   "nbconvert_exporter": "python",
   "pygments_lexer": "ipython3",
   "version": "3.8.5"
  }
 },
 "nbformat": 4,
 "nbformat_minor": 5
}

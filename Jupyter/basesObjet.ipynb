{
 "cells": [
  {
   "cell_type": "markdown",
   "id": "c5ca68fa",
   "metadata": {},
   "source": [
    "# Programmation objet : les bases"
   ]
  },
  {
   "cell_type": "markdown",
   "id": "8a3457ad",
   "metadata": {},
   "source": [
    "Ce notepad a pour objectif de vous présenter succinctement les concepts de la programmation objet en python3.\n",
    "\n",
    "## Avant l'objet\n",
    "Avant de programmer en objet, vous avez programmé dans un langage impératif: le C.  \n",
    "Imaginons que nous devons manipuler dans un programme des animaux, dont nous avons besoin de spécifier certaines caractéristiques:\n",
    " * son âge\n",
    " * son nombre de pattes\n",
    " \n",
    "En C, on crée naturellement une **structure** qui réunit plusieurs types, avec typedef:"
   ]
  },
  {
   "cell_type": "markdown",
   "id": "73647751",
   "metadata": {},
   "source": [
    "  ```\n",
    "  typedef struct animal {  \n",
    "    int age; //ces variables s'appellent des **champs**  \n",
    "    int nbpattes;  \n",
    "  } Animal;```"
   ]
  },
  {
   "cell_type": "markdown",
   "id": "b289fe3d",
   "metadata": {},
   "source": [
    "On déclare une variable de type Animal ainsi  "
   ]
  },
  {
   "cell_type": "markdown",
   "id": "85f788b0",
   "metadata": {},
   "source": [
    "  ```\n",
    "  Animal vache;```  "
   ]
  },
  {
   "cell_type": "markdown",
   "id": "b5a567b4",
   "metadata": {},
   "source": [
    "On accède aux champs par l'opérateur .  "
   ]
  },
  {
   "cell_type": "markdown",
   "id": "1316bfb6",
   "metadata": {},
   "source": [
    "```\n",
    "#utilisation des champs\n",
    "vache.age = 1;\n",
    "vache.nbpattes = 4;```"
   ]
  },
  {
   "cell_type": "markdown",
   "id": "f9655ca3",
   "metadata": {},
   "source": [
    "Et si on souhaite créer une fonction qui, par exemple, affiche l'âge d'un animal on écrit:"
   ]
  },
  {
   "cell_type": "markdown",
   "id": "e83f32bc",
   "metadata": {},
   "source": [
    "```\n",
    "void affiche_age(Animal x)\n",
    "{printf(\"%d\\n\",x.age);}```"
   ]
  },
  {
   "cell_type": "markdown",
   "id": "300bbc7c",
   "metadata": {},
   "source": [
    "## Langage objet : les bases\n",
    "### Les classes et leur attributs\n",
    "Dans un langage objet, les types structurés sont remplacés par des **classes**, et les champs par des **attributs**."
   ]
  },
  {
   "cell_type": "code",
   "execution_count": 9,
   "id": "8ea49322",
   "metadata": {},
   "outputs": [],
   "source": [
    "class Animal:\n",
    "    pass #commande permettant de ne rien mettre dans la classe, pour le moment"
   ]
  },
  {
   "cell_type": "markdown",
   "id": "8cf7aa14",
   "metadata": {},
   "source": [
    "On déclare un animal ainsi:"
   ]
  },
  {
   "cell_type": "code",
   "execution_count": 10,
   "id": "b444d6ff",
   "metadata": {},
   "outputs": [],
   "source": [
    "vache = Animal()"
   ]
  },
  {
   "cell_type": "markdown",
   "id": "a3d6d933",
   "metadata": {},
   "source": [
    "Cette déclaration s'appelle, en langage objet, une **instanciation**: on crée une instance `vache` de la classe `Animal`. Lors de cette instanciation, une \"fonction\" spéciale est appelée, dénommée **constructeur de classe**.  \n",
    "On peut définir nous-même ce que fait ce constructeur:"
   ]
  },
  {
   "cell_type": "code",
   "execution_count": 11,
   "id": "2481fc55",
   "metadata": {},
   "outputs": [],
   "source": [
    "class Animal:\n",
    "    def __init__(self): #la fonction constructeur de classe\n",
    "        self.age = 0\n",
    "        self.nbpattes = 0"
   ]
  },
  {
   "cell_type": "markdown",
   "id": "e8ce1b50",
   "metadata": {},
   "source": [
    "Dans l'exemple précédent, nous avons créé deux attributs à la classe `Animal` dans son constructeur.  \n",
    "On peut désormais manipuler ces attributs, comme en C:"
   ]
  },
  {
   "cell_type": "code",
   "execution_count": 12,
   "id": "2569ba46",
   "metadata": {},
   "outputs": [
    {
     "name": "stdout",
     "output_type": "stream",
     "text": [
      "0\n"
     ]
    }
   ],
   "source": [
    "vache = Animal()\n",
    "print(vache.age)"
   ]
  },
  {
   "cell_type": "markdown",
   "id": "e8973f6d",
   "metadata": {},
   "source": [
    "### Les méthodes de classe\n",
    "Nous voulons écrire une fonction qui affiche l'âge de notre `vache`. On peut bien sûr afficher `vache.age`, mais on peut également écrire une fonction dédiée, qui en programmation objet s'appelle **méthode** (de classe)."
   ]
  },
  {
   "cell_type": "code",
   "execution_count": 13,
   "id": "97b1931c",
   "metadata": {},
   "outputs": [
    {
     "name": "stdout",
     "output_type": "stream",
     "text": [
      "0\n"
     ]
    }
   ],
   "source": [
    "class Animal:\n",
    "    def __init__(self): #la fonction constructeur de classe\n",
    "        self.age = 0\n",
    "        self.nbpattes = 0\n",
    "    def afficheAge(self):\n",
    "        print(self.age)\n",
    "vache = Animal()\n",
    "vache.afficheAge()"
   ]
  },
  {
   "cell_type": "markdown",
   "id": "eb48cf75",
   "metadata": {},
   "source": [
    "**TRES IMPORTANT** `self` signifie **l'instance de classe elle-même**. Ce mot-clé doit apparaître dans toutes les en-têtes de méthodes. Dans cet exemple, quand on exécute `vache=Animal()`, on entre dans le constructeur `__init__` et `self` vaut en fait l'instance de classe (la variable)`vache`."
   ]
  },
  {
   "cell_type": "markdown",
   "id": "f36dcd40",
   "metadata": {},
   "source": [
    "**TRES IMPORTANT** Cette méthode `afficheAge` *appartient* à la classe, on ne peut pas l'utiliser seule, ou sur une instance d'une autre classe. (grosse différence avec les fonctions de la programmation impérative)"
   ]
  },
  {
   "cell_type": "code",
   "execution_count": 14,
   "id": "fdb616db",
   "metadata": {},
   "outputs": [
    {
     "ename": "NameError",
     "evalue": "name 'afficheAge' is not defined",
     "output_type": "error",
     "traceback": [
      "\u001b[0;31m---------------------------------------------------------------------------\u001b[0m",
      "\u001b[0;31mNameError\u001b[0m                                 Traceback (most recent call last)",
      "\u001b[0;32m<ipython-input-14-a988d0f3ab93>\u001b[0m in \u001b[0;36m<module>\u001b[0;34m\u001b[0m\n\u001b[0;32m----> 1\u001b[0;31m \u001b[0mafficheAge\u001b[0m\u001b[0;34m(\u001b[0m\u001b[0;36m5\u001b[0m\u001b[0;34m)\u001b[0m\u001b[0;34m\u001b[0m\u001b[0;34m\u001b[0m\u001b[0m\n\u001b[0m",
      "\u001b[0;31mNameError\u001b[0m: name 'afficheAge' is not defined"
     ]
    }
   ],
   "source": [
    "afficheAge(5)"
   ]
  },
  {
   "cell_type": "markdown",
   "id": "f16563bd",
   "metadata": {},
   "source": [
    "### getters et setters\n",
    "Traditionnellement, on n'aime pas trop qu'un utilisateur d'une classe accède aux attributs directement, comme lorsque nous avons affiché `vache.age`. On préfère utiliser des fonctions de lecture et d'écriture dédiées, appelées respectivement **getters** et **setters**. Une fonction getter (usuellement appelée *get*) sert à lire un attribut, et une fonction setter (usuellement appelée *set*) sert à modifier un attribut.  \n",
    "Nous allons transformer notre méthode `afficheAge` en getter: il suffit qu'elle renvoie la valeur de l'attribut `age`.  \n",
    "Ecrivons également un setter pour l'âge:"
   ]
  },
  {
   "cell_type": "code",
   "execution_count": 18,
   "id": "b14f9311",
   "metadata": {},
   "outputs": [
    {
     "name": "stdout",
     "output_type": "stream",
     "text": [
      "ceci est le getage d'Animal\n",
      "12\n"
     ]
    }
   ],
   "source": [
    "class Animal:\n",
    "    def __init__(self): #la fonction constructeur de classe\n",
    "        self.age = 0\n",
    "        self.nbpattes = 0\n",
    "    def getAge(self): #notre getter pour age\n",
    "        print(\"ceci est le getage d'Animal\")\n",
    "        return(self.age)\n",
    "    def setAge(self,age): #notre setter pour age\n",
    "        self.age = age\n",
    "vache = Animal()\n",
    "vache.setAge(12)\n",
    "print(vache.getAge())"
   ]
  },
  {
   "cell_type": "markdown",
   "id": "28ac6990",
   "metadata": {},
   "source": [
    "## Langage objet : quel intérêt?\n",
    "Vous aurez compris que les langages objets forcent les développeurs à organiser leur code: fonctions et champs (devenus méthodes et attributs) appartiennent aux classes. En organisant ainsi nos structures, on ressent rapidement le besoin de créer des liens entre-elles.\n",
    "*Exemple* : j'aimerais créer une classe `Reptile` qui disposerait des mêmes attributs `age` et `nbpattes` que `Animal`.  \n",
    "Nous sommes là face à la nécessité de définir un **héritage**.  \n",
    "### Héritage\n",
    "Lors de la conception d'une classe, on peut la faire hériter d'une autre classe. Elle hérite alors de ses attributs et de ses méthodes:"
   ]
  },
  {
   "cell_type": "code",
   "execution_count": 19,
   "id": "72668f1c",
   "metadata": {},
   "outputs": [],
   "source": [
    "class Reptile(Animal): #Reptile hérite de Animal\n",
    "    pass\n",
    "        \n",
    "boa = Reptile()"
   ]
  },
  {
   "cell_type": "markdown",
   "id": "6159ef4d",
   "metadata": {},
   "source": [
    "`boa` est un `Reptile`. Que se passe-t-il si l'on tente d'afficher son `age` via la méthode `getAge` ?"
   ]
  },
  {
   "cell_type": "code",
   "execution_count": 20,
   "id": "13a16dfa",
   "metadata": {},
   "outputs": [
    {
     "name": "stdout",
     "output_type": "stream",
     "text": [
      "ceci est le getage d'Animal\n",
      "0\n"
     ]
    }
   ],
   "source": [
    "print(boa.getAge())"
   ]
  },
  {
   "cell_type": "markdown",
   "id": "1d2af6c1",
   "metadata": {},
   "source": [
    "Ca fonctionne, car les reptiles héritent de la classe `Animal` donc de ses méthodes et attributs.  \n",
    "Nous voudrions maintenant que la classe `Reptile` soit dotée, en plus des attributs de la classe `Animal`, d'un attribut `nbecailles` qui lui serait propre."
   ]
  },
  {
   "cell_type": "code",
   "execution_count": 21,
   "id": "9a503869",
   "metadata": {},
   "outputs": [],
   "source": [
    "class Reptile(Animal): #Reptile hérite de Animal\n",
    "    def __init__(self): #le constructeur de Reptile\n",
    "        super().__init__() #J'APPELLE EXPLICITEMENT LE CONSTRUCTEUR D'ANIMAL\n",
    "        self.nbecailles = 0\n",
    "        \n",
    "boa = Reptile()"
   ]
  },
  {
   "cell_type": "markdown",
   "id": "5c76c316",
   "metadata": {},
   "source": [
    "Pour que les instances de la classe `Reptile` disposent des attributs de `Animal` **ET** de ce nouvel attribut de la classe `Reptile`, il faut appeler explicitement le constructeur de la classe mère à l'aide du mot-clé **super**."
   ]
  },
  {
   "cell_type": "markdown",
   "id": "62607745",
   "metadata": {},
   "source": [
    "### Polymorphisme\n",
    "On peut souhaiter écrire dans `Reptile` une nouvelle méthode `getAge` qui lui sera propre et sera appelée à la place de celle de `Animal`."
   ]
  },
  {
   "cell_type": "code",
   "execution_count": 22,
   "id": "1fd169cb",
   "metadata": {},
   "outputs": [
    {
     "name": "stdout",
     "output_type": "stream",
     "text": [
      "ceci est le getAge de Reptile\n",
      "0\n",
      "ceci est le getage d'Animal\n",
      "0\n"
     ]
    }
   ],
   "source": [
    "class Reptile(Animal): #Reptile hérite de Animal\n",
    "    def __init__(self): #le constructeur de Reptile\n",
    "        super().__init__()\n",
    "        self.nbecailles = 0\n",
    "    def getAge(self):\n",
    "        print(\"ceci est le getAge de Reptile\")\n",
    "        return(self.age)\n",
    "boa = Reptile()\n",
    "moineau = Animal()\n",
    "print(boa.getAge())\n",
    "print(moineau.getAge())\n"
   ]
  },
  {
   "cell_type": "code",
   "execution_count": null,
   "id": "33d1a09a",
   "metadata": {},
   "outputs": [],
   "source": []
  }
 ],
 "metadata": {
  "kernelspec": {
   "display_name": "Python 3",
   "language": "python",
   "name": "python3"
  },
  "language_info": {
   "codemirror_mode": {
    "name": "ipython",
    "version": 3
   },
   "file_extension": ".py",
   "mimetype": "text/x-python",
   "name": "python",
   "nbconvert_exporter": "python",
   "pygments_lexer": "ipython3",
   "version": "3.8.5"
  }
 },
 "nbformat": 4,
 "nbformat_minor": 5
}

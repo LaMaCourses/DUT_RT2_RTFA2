{
 "cells": [
  {
   "cell_type": "markdown",
   "id": "6ce81dc5",
   "metadata": {},
   "source": [
    "# Programmation objet : les bases"
   ]
  },
  {
   "cell_type": "markdown",
   "id": "8dd80487",
   "metadata": {},
   "source": [
    "Ce notepad a pour objectif de vous présenter succinctement les concepts de la programmation objet en python3.\n",
    "\n",
    "## Avant l'objet\n",
    "Avant de programmer en objet, vous avez programmé dans un langage impératif: le C.  \n",
    "Imaginons que nous devons manipuler dans un programme des animaux, dont nous avons besoin de spécifier certaines caractéristiques:\n",
    " * son âge\n",
    " * son nombre de pattes\n",
    " \n",
    "En C, on crée naturellement une **structure** qui réunit plusieurs types, avec typedef:"
   ]
  },
  {
   "cell_type": "markdown",
   "id": "b70f026c",
   "metadata": {},
   "source": [
    "  ```\n",
    "  typedef struct animal {  \n",
    "    int age; //ces variables s'appellent des **champs**  \n",
    "    int nbpattes;  \n",
    "  } Animal;```"
   ]
  },
  {
   "cell_type": "markdown",
   "id": "c9d4b39d",
   "metadata": {},
   "source": [
    "On déclare une variable de type Animal ainsi  "
   ]
  },
  {
   "cell_type": "markdown",
   "id": "1b45f99c",
   "metadata": {},
   "source": [
    "  ```\n",
    "  Animal vache;```  "
   ]
  },
  {
   "cell_type": "markdown",
   "id": "3ec879fd",
   "metadata": {},
   "source": [
    "On accède aux champs par l'opérateur .  "
   ]
  },
  {
   "cell_type": "markdown",
   "id": "2a189692",
   "metadata": {},
   "source": [
    "```\n",
    "#utilisation des champs\n",
    "vache.age = 1;\n",
    "vache.nbpattes = 4;```"
   ]
  },
  {
   "cell_type": "markdown",
   "id": "d5d1c3da",
   "metadata": {},
   "source": [
    "Et si on souhaite créer une fonction qui, par exemple, affiche l'âge d'un animal on écrit:"
   ]
  },
  {
   "cell_type": "markdown",
   "id": "8de814cd",
   "metadata": {},
   "source": [
    "```\n",
    "void affiche_age(Animal x)\n",
    "{printf(\"%d\\n\",x.age);}```"
   ]
  },
  {
   "cell_type": "markdown",
   "id": "2723860d",
   "metadata": {},
   "source": [
    "## Langage objet : les bases\n",
    "### Les classes et leur attributs\n",
    "Dans un langage objet, les types structurés sont remplacés par des **classes**, et les champs par des **attributs**."
   ]
  },
  {
   "cell_type": "code",
   "execution_count": 55,
   "id": "6b05590c",
   "metadata": {},
   "outputs": [],
   "source": [
    "class Animal:\n",
    "    pass #commande permettant de ne rien mettre dans la classe, pour le moment"
   ]
  },
  {
   "cell_type": "markdown",
   "id": "bc37c853",
   "metadata": {},
   "source": [
    "On déclare un animal ainsi:"
   ]
  },
  {
   "cell_type": "code",
   "execution_count": 56,
   "id": "9cb7f468",
   "metadata": {},
   "outputs": [],
   "source": [
    "vache = Animal()"
   ]
  },
  {
   "cell_type": "markdown",
   "id": "3427ec72",
   "metadata": {},
   "source": [
    "Cette déclaration s'appelle, en langage objet, une **instanciation**: on crée une instance `vache` de la classe `Animal`. Lors de cette instanciation, une \"fonction\" spéciale est appelée, dénommée **constructeur de classe**.  \n",
    "On peut définir nous-même ce que fait ce constructeur:"
   ]
  },
  {
   "cell_type": "code",
   "execution_count": 57,
   "id": "a10c22c2",
   "metadata": {},
   "outputs": [],
   "source": [
    "class Animal:\n",
    "    def __init__(self): #la fonction constructeur de classe\n",
    "        self.age = 0\n",
    "        self.nbpattes = 0"
   ]
  },
  {
   "cell_type": "markdown",
   "id": "d8a790a5",
   "metadata": {},
   "source": [
    "Dans l'exemple précédent, nous avons créé deux attributs à la classe `Animal` dans son constructeur.  \n",
    "On peut désormais manipuler ces attributs, comme en C:"
   ]
  },
  {
   "cell_type": "code",
   "execution_count": 58,
   "id": "2f5e7589",
   "metadata": {},
   "outputs": [
    {
     "name": "stdout",
     "output_type": "stream",
     "text": [
      "0\n"
     ]
    }
   ],
   "source": [
    "vache = Animal()\n",
    "print(vache.age)"
   ]
  },
  {
   "cell_type": "markdown",
   "id": "39761d25",
   "metadata": {},
   "source": [
    "### Les méthodes de classe\n",
    "Nous voulons écrire une fonction qui affiche l'âge de notre `vache`. On peut bien sûr afficher `vache.age`, mais on peut également écrire une fonction dédiée, qui en programmation objet s'appelle **méthode** (de classe)."
   ]
  },
  {
   "cell_type": "code",
   "execution_count": 59,
   "id": "0c6fe5eb",
   "metadata": {},
   "outputs": [
    {
     "name": "stdout",
     "output_type": "stream",
     "text": [
      "0\n"
     ]
    }
   ],
   "source": [
    "class Animal:\n",
    "    def __init__(self): #la fonction constructeur de classe\n",
    "        self.age = 0\n",
    "        self.nbpattes = 0\n",
    "    def afficheAge(self):\n",
    "        print(self.age)\n",
    "vache = Animal()\n",
    "vache.afficheAge()"
   ]
  },
  {
   "cell_type": "markdown",
   "id": "3c0a87b4",
   "metadata": {},
   "source": [
    "**TRES IMPORTANT** `self` signifie **l'instance de classe elle-même**. Ce mot-clé doit apparaître dans toutes les en-têtes de méthodes. Dans cet exemple, quand on exécute `vache=Animal()`, on entre dans le constructeur `__init__` et `self` vaut en fait l'instance de classe (la variable)`vache`."
   ]
  },
  {
   "cell_type": "markdown",
   "id": "c6086013",
   "metadata": {},
   "source": [
    "**TRES IMPORTANT** Cette méthode `afficheAge` *appartient* à la classe, on ne peut pas l'utiliser seule, ou sur une instance d'une autre classe. (grosse différence avec les fonctions de la programmation impérative)"
   ]
  },
  {
   "cell_type": "code",
   "execution_count": 60,
   "id": "72c8e333",
   "metadata": {},
   "outputs": [
    {
     "ename": "NameError",
     "evalue": "name 'afficheAge' is not defined",
     "output_type": "error",
     "traceback": [
      "\u001b[0;31m---------------------------------------------------------------------------\u001b[0m",
      "\u001b[0;31mNameError\u001b[0m                                 Traceback (most recent call last)",
      "\u001b[0;32m<ipython-input-60-a988d0f3ab93>\u001b[0m in \u001b[0;36m<module>\u001b[0;34m\u001b[0m\n\u001b[0;32m----> 1\u001b[0;31m \u001b[0mafficheAge\u001b[0m\u001b[0;34m(\u001b[0m\u001b[0;36m5\u001b[0m\u001b[0;34m)\u001b[0m\u001b[0;34m\u001b[0m\u001b[0;34m\u001b[0m\u001b[0m\n\u001b[0m",
      "\u001b[0;31mNameError\u001b[0m: name 'afficheAge' is not defined"
     ]
    }
   ],
   "source": [
    "afficheAge(5)"
   ]
  },
  {
   "cell_type": "markdown",
   "id": "bbe56e2c",
   "metadata": {},
   "source": [
    "### getters et setters\n",
    "Traditionnellement, on n'aime pas trop qu'un utilisateur d'une classe accède aux attributs directement, comme lorsque nous avons affiché `vache.age`. On préfère utiliser des fonctions de lecture et d'écriture dédiées, appelées respectivement **getters** et **setters**. Une fonction getter (usuellement appelée *get*) sert à lire un attribut, et une fonction setter (usuellement appelée *set*) sert à modifier un attribut.  \n",
    "Nous allons transformer notre méthode `afficheAge` en getter: il suffit qu'elle renvoie la valeur de l'attribut `age`.  \n",
    "Ecrivons également un setter pour l'âge:"
   ]
  },
  {
   "cell_type": "code",
   "execution_count": null,
   "id": "7a6f90d2",
   "metadata": {},
   "outputs": [],
   "source": [
    "class Animal:\n",
    "    def __init__(self): #la fonction constructeur de classe\n",
    "        self.age = 0\n",
    "        self.nbpattes = 0\n",
    "    def getAge(self): #notre getter pour age\n",
    "        return(self.age)\n",
    "    def setAge(self,age): #notre setter pour age\n",
    "        self.age = age\n",
    "vache = Animal()\n",
    "vache.setAge(12)\n",
    "print(vache.getAge())"
   ]
  },
  {
   "cell_type": "markdown",
   "id": "d4763b98",
   "metadata": {},
   "source": [
    "## Langage objet : quel intérêt?\n",
    "Vous aurez compris que les langages objets forcent les développeurs à organiser leur code: fonctions et champs (devenus méthodes et attributs) appartiennent aux classes. En organisant ainsi ses structures, on ressent rapidement le besoin de créer des liens entre-elles.\n",
    "*Exemple* : j'aimerais créer une classe `Reptile` qui disposerait des mêmes attributs `age` et `nbpattes` que `Animal`, mais aurait en supplément un attribut `nbEcailles` qui lui serait propre.  \n",
    "Nous sommes là face à la nécessité de définir un **héritage**.  \n",
    "### Héritage\n",
    "Lors de la conception d'une classe, on peut la faire hériter d'une autre classe. Elle hérite alors de ses attributs et de ses méthodes:"
   ]
  },
  {
   "cell_type": "code",
   "execution_count": 66,
   "id": "df2d7344",
   "metadata": {},
   "outputs": [],
   "source": [
    "class Animal:\n",
    "    def __init__(self): #la fonction constructeur de classe\n",
    "        self.age = 0\n",
    "        self.nbpattes = 0\n",
    "    def getAge(self): #notre getter pour age\n",
    "        return(self.age)\n",
    "    def setAge(self,age): #notre setter pour age\n",
    "        self.age = age\n",
    "\n",
    "class Reptile(Animal): #Reptile hérite de Animal\n",
    "    def __init__(self): #le constructeur de Reptile\n",
    "        super().__init__()\n",
    "        self.nbecailles = 0\n",
    "        \n",
    "boa = Reptile()"
   ]
  },
  {
   "cell_type": "markdown",
   "id": "55e76b91",
   "metadata": {},
   "source": [
    "`boa` est un `Reptile`. Que se passe-t-il si l'on tente d'afficher son `age` via la méthode `getAge` ?"
   ]
  },
  {
   "cell_type": "code",
   "execution_count": 67,
   "id": "cff2482d",
   "metadata": {},
   "outputs": [
    {
     "name": "stdout",
     "output_type": "stream",
     "text": [
      "0\n"
     ]
    }
   ],
   "source": [
    "print(boa.getAge())"
   ]
  },
  {
   "cell_type": "markdown",
   "id": "0a06a460",
   "metadata": {},
   "source": [
    "Ca fonctionne, car les reptiles héritent de la classe `Animal` donc de ses méthodes et attributs.  \n",
    "### Polymorphisme\n",
    "On peut souhaiter écrire dans `Reptile` une nouvelle méthode `getAge` qui lui sera propre et sera appelée à la place de celle de `Animal`."
   ]
  },
  {
   "cell_type": "code",
   "execution_count": 69,
   "id": "740d9baa",
   "metadata": {},
   "outputs": [
    {
     "name": "stdout",
     "output_type": "stream",
     "text": [
      "ceci est le getAge de Reptile\n"
     ]
    },
    {
     "ename": "AttributeError",
     "evalue": "'Reptile' object has no attribute 'age'",
     "output_type": "error",
     "traceback": [
      "\u001b[0;31m---------------------------------------------------------------------------\u001b[0m",
      "\u001b[0;31mAttributeError\u001b[0m                            Traceback (most recent call last)",
      "\u001b[0;32m<ipython-input-69-2bc433dafafc>\u001b[0m in \u001b[0;36m<module>\u001b[0;34m\u001b[0m\n\u001b[1;32m     16\u001b[0m \u001b[0mboa\u001b[0m \u001b[0;34m=\u001b[0m \u001b[0mReptile\u001b[0m\u001b[0;34m(\u001b[0m\u001b[0;34m)\u001b[0m\u001b[0;34m\u001b[0m\u001b[0;34m\u001b[0m\u001b[0m\n\u001b[1;32m     17\u001b[0m \u001b[0mmoineau\u001b[0m \u001b[0;34m=\u001b[0m \u001b[0mAnimal\u001b[0m\u001b[0;34m(\u001b[0m\u001b[0;34m)\u001b[0m\u001b[0;34m\u001b[0m\u001b[0;34m\u001b[0m\u001b[0m\n\u001b[0;32m---> 18\u001b[0;31m \u001b[0mprint\u001b[0m\u001b[0;34m(\u001b[0m\u001b[0mboa\u001b[0m\u001b[0;34m.\u001b[0m\u001b[0mgetAge\u001b[0m\u001b[0;34m(\u001b[0m\u001b[0;34m)\u001b[0m\u001b[0;34m)\u001b[0m\u001b[0;34m\u001b[0m\u001b[0;34m\u001b[0m\u001b[0m\n\u001b[0m\u001b[1;32m     19\u001b[0m \u001b[0mprint\u001b[0m\u001b[0;34m(\u001b[0m\u001b[0mmoineau\u001b[0m\u001b[0;34m.\u001b[0m\u001b[0mgetAge\u001b[0m\u001b[0;34m(\u001b[0m\u001b[0;34m)\u001b[0m\u001b[0;34m)\u001b[0m\u001b[0;34m\u001b[0m\u001b[0;34m\u001b[0m\u001b[0m\n",
      "\u001b[0;32m<ipython-input-69-2bc433dafafc>\u001b[0m in \u001b[0;36mgetAge\u001b[0;34m(self)\u001b[0m\n\u001b[1;32m     13\u001b[0m     \u001b[0;32mdef\u001b[0m \u001b[0mgetAge\u001b[0m\u001b[0;34m(\u001b[0m\u001b[0mself\u001b[0m\u001b[0;34m)\u001b[0m\u001b[0;34m:\u001b[0m\u001b[0;34m\u001b[0m\u001b[0;34m\u001b[0m\u001b[0m\n\u001b[1;32m     14\u001b[0m         \u001b[0mprint\u001b[0m\u001b[0;34m(\u001b[0m\u001b[0;34m\"ceci est le getAge de Reptile\"\u001b[0m\u001b[0;34m)\u001b[0m\u001b[0;34m\u001b[0m\u001b[0;34m\u001b[0m\u001b[0m\n\u001b[0;32m---> 15\u001b[0;31m         \u001b[0;32mreturn\u001b[0m\u001b[0;34m(\u001b[0m\u001b[0mself\u001b[0m\u001b[0;34m.\u001b[0m\u001b[0mage\u001b[0m\u001b[0;34m)\u001b[0m\u001b[0;34m\u001b[0m\u001b[0;34m\u001b[0m\u001b[0m\n\u001b[0m\u001b[1;32m     16\u001b[0m \u001b[0mboa\u001b[0m \u001b[0;34m=\u001b[0m \u001b[0mReptile\u001b[0m\u001b[0;34m(\u001b[0m\u001b[0;34m)\u001b[0m\u001b[0;34m\u001b[0m\u001b[0;34m\u001b[0m\u001b[0m\n\u001b[1;32m     17\u001b[0m \u001b[0mmoineau\u001b[0m \u001b[0;34m=\u001b[0m \u001b[0mAnimal\u001b[0m\u001b[0;34m(\u001b[0m\u001b[0;34m)\u001b[0m\u001b[0;34m\u001b[0m\u001b[0;34m\u001b[0m\u001b[0m\n",
      "\u001b[0;31mAttributeError\u001b[0m: 'Reptile' object has no attribute 'age'"
     ]
    }
   ],
   "source": [
    "class Animal:\n",
    "    def __init__(self): #la fonction constructeur de classe\n",
    "        self.age = 0\n",
    "        self.nbpattes = 0\n",
    "    def getAge(self): #notre getter pour age\n",
    "        return(self.age)\n",
    "    def setAge(self,age): #notre setter pour age\n",
    "        self.age = age\n",
    "        \n",
    "class Reptile(Animal): #Reptile hérite de Animal\n",
    "    def __init__(self): #le constructeur de Reptile\n",
    "        self.nbecailles = 0\n",
    "    def getAge(self):\n",
    "        print(\"ceci est le getAge de Reptile\")\n",
    "        return(self.age)\n",
    "boa = Reptile()\n",
    "moineau = Animal()\n",
    "print(boa.getAge())\n",
    "print(moineau.getAge())\n"
   ]
  },
  {
   "cell_type": "code",
   "execution_count": null,
   "id": "a429dfeb",
   "metadata": {},
   "outputs": [],
   "source": []
  }
 ],
 "metadata": {
  "kernelspec": {
   "display_name": "Python 3",
   "language": "python",
   "name": "python3"
  },
  "language_info": {
   "codemirror_mode": {
    "name": "ipython",
    "version": 3
   },
   "file_extension": ".py",
   "mimetype": "text/x-python",
   "name": "python",
   "nbconvert_exporter": "python",
   "pygments_lexer": "ipython3",
   "version": "3.8.5"
  }
 },
 "nbformat": 4,
 "nbformat_minor": 5
}
